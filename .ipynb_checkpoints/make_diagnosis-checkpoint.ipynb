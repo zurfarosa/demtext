{
 "cells": [
  {
   "cell_type": "code",
   "execution_count": 1,
   "metadata": {},
   "outputs": [],
   "source": [
    "%load_ext autoreload\n",
    "%autoreload 2"
   ]
  },
  {
   "cell_type": "code",
   "execution_count": 172,
   "metadata": {},
   "outputs": [
    {
     "name": "stdout",
     "output_type": "stream",
     "text": [
      "/Users/zurfarosa/demtext\n"
     ]
    }
   ],
   "source": [
    "cd ~/demtext"
   ]
  },
  {
   "cell_type": "code",
   "execution_count": 173,
   "metadata": {},
   "outputs": [],
   "source": [
    "import os\n",
    "import sys\n",
    "\n",
    "module_path = os.path.abspath(os.path.join('..'))\n",
    "if module_path not in sys.path:\n",
    "    sys.path.append(module_path)\n",
    "\n",
    "import pandas as pd\n",
    "import numpy as np\n",
    "from IPython.display import display"
   ]
  },
  {
   "cell_type": "code",
   "execution_count": 203,
   "metadata": {},
   "outputs": [],
   "source": [
    "pd.set_option(\"display.width\", 300)"
   ]
  },
  {
   "cell_type": "code",
   "execution_count": 204,
   "metadata": {},
   "outputs": [],
   "source": [
    "pd.set_option(\"display.max_rows\", None)"
   ]
  },
  {
   "cell_type": "code",
   "execution_count": 190,
   "metadata": {},
   "outputs": [],
   "source": [
    "entries = pd.read_excel(\"Anna's edits v3 FINAL.xlsx\",sheet_name='entries')"
   ]
  },
  {
   "cell_type": "code",
   "execution_count": 191,
   "metadata": {},
   "outputs": [
    {
     "data": {
      "text/html": [
       "<div>\n",
       "<style scoped>\n",
       "    .dataframe tbody tr th:only-of-type {\n",
       "        vertical-align: middle;\n",
       "    }\n",
       "\n",
       "    .dataframe tbody tr th {\n",
       "        vertical-align: top;\n",
       "    }\n",
       "\n",
       "    .dataframe thead th {\n",
       "        text-align: right;\n",
       "    }\n",
       "</style>\n",
       "<table border=\"1\" class=\"dataframe\">\n",
       "  <thead>\n",
       "    <tr style=\"text-align: right;\">\n",
       "      <th></th>\n",
       "      <th>entry id</th>\n",
       "      <th>patient id</th>\n",
       "      <th>case_pracid</th>\n",
       "      <th>staffid</th>\n",
       "      <th>gender</th>\n",
       "      <th>birthyear</th>\n",
       "      <th>Age_at_diagnosis</th>\n",
       "      <th>Dementia</th>\n",
       "      <th>number_of_words</th>\n",
       "      <th>totalkeyword</th>\n",
       "      <th>totalreadcodes</th>\n",
       "      <th>medcode</th>\n",
       "      <th>textid</th>\n",
       "      <th>free text</th>\n",
       "      <th>Read code</th>\n",
       "      <th>Read term</th>\n",
       "      <th>eventdate</th>\n",
       "      <th>SystemDate</th>\n",
       "    </tr>\n",
       "  </thead>\n",
       "  <tbody>\n",
       "    <tr>\n",
       "      <th>0</th>\n",
       "      <td>FN00001</td>\n",
       "      <td>380163</td>\n",
       "      <td>163</td>\n",
       "      <td>3163</td>\n",
       "      <td>2</td>\n",
       "      <td>1916</td>\n",
       "      <td>91</td>\n",
       "      <td>0</td>\n",
       "      <td>2089</td>\n",
       "      <td>10</td>\n",
       "      <td>1</td>\n",
       "      <td>13906</td>\n",
       "      <td>0</td>\n",
       "      <td>NaN</td>\n",
       "      <td>442J.00</td>\n",
       "      <td>Thyroid function test</td>\n",
       "      <td>2006-07-10</td>\n",
       "      <td>2006-07-10</td>\n",
       "    </tr>\n",
       "    <tr>\n",
       "      <th>1</th>\n",
       "      <td>FN00002</td>\n",
       "      <td>380163</td>\n",
       "      <td>163</td>\n",
       "      <td>3163</td>\n",
       "      <td>2</td>\n",
       "      <td>1916</td>\n",
       "      <td>91</td>\n",
       "      <td>0</td>\n",
       "      <td>2089</td>\n",
       "      <td>10</td>\n",
       "      <td>1</td>\n",
       "      <td>14460</td>\n",
       "      <td>0</td>\n",
       "      <td>NaN</td>\n",
       "      <td>442V.00</td>\n",
       "      <td>Serum free T4 level</td>\n",
       "      <td>2006-07-10</td>\n",
       "      <td>2006-07-10</td>\n",
       "    </tr>\n",
       "    <tr>\n",
       "      <th>2</th>\n",
       "      <td>FN00003</td>\n",
       "      <td>380163</td>\n",
       "      <td>163</td>\n",
       "      <td>3163</td>\n",
       "      <td>2</td>\n",
       "      <td>1916</td>\n",
       "      <td>91</td>\n",
       "      <td>0</td>\n",
       "      <td>2089</td>\n",
       "      <td>10</td>\n",
       "      <td>1</td>\n",
       "      <td>63</td>\n",
       "      <td>0</td>\n",
       "      <td>NaN</td>\n",
       "      <td>442W.00</td>\n",
       "      <td>Serum TSH level</td>\n",
       "      <td>2006-07-10</td>\n",
       "      <td>2006-07-10</td>\n",
       "    </tr>\n",
       "    <tr>\n",
       "      <th>3</th>\n",
       "      <td>FN00004</td>\n",
       "      <td>380163</td>\n",
       "      <td>163</td>\n",
       "      <td>4163</td>\n",
       "      <td>2</td>\n",
       "      <td>1916</td>\n",
       "      <td>91</td>\n",
       "      <td>0</td>\n",
       "      <td>2089</td>\n",
       "      <td>10</td>\n",
       "      <td>1</td>\n",
       "      <td>2401</td>\n",
       "      <td>39220</td>\n",
       "      <td>R EYE NOW LOWER LID INFLAMED AND WATERING ++. PLAN TREAT INF THEN REV ? WILL NEED REF TO OPTHALMOLOGY</td>\n",
       "      <td>F4E1.00</td>\n",
       "      <td>Ectropion</td>\n",
       "      <td>2006-08-31</td>\n",
       "      <td>2006-08-31</td>\n",
       "    </tr>\n",
       "    <tr>\n",
       "      <th>4</th>\n",
       "      <td>FN00005</td>\n",
       "      <td>380163</td>\n",
       "      <td>163</td>\n",
       "      <td>59163</td>\n",
       "      <td>2</td>\n",
       "      <td>1916</td>\n",
       "      <td>91</td>\n",
       "      <td>0</td>\n",
       "      <td>2089</td>\n",
       "      <td>10</td>\n",
       "      <td>1</td>\n",
       "      <td>3887</td>\n",
       "      <td>0</td>\n",
       "      <td>NaN</td>\n",
       "      <td>1A26.00</td>\n",
       "      <td>Urge incontinence of urine</td>\n",
       "      <td>2006-09-05</td>\n",
       "      <td>2006-09-05</td>\n",
       "    </tr>\n",
       "  </tbody>\n",
       "</table>\n",
       "</div>"
      ],
      "text/plain": [
       "  entry id  patient id  case_pracid  staffid  gender  birthyear  Age_at_diagnosis  Dementia  number_of_words  totalkeyword  totalreadcodes  medcode  textid                                                                                              free text Read code                   Read term  eventdate SystemDate\n",
       "0  FN00001      380163          163     3163       2       1916                91         0             2089            10               1    13906       0                                                                                                    NaN   442J.00       Thyroid function test 2006-07-10 2006-07-10\n",
       "1  FN00002      380163          163     3163       2       1916                91         0             2089            10               1    14460       0                                                                                                    NaN   442V.00         Serum free T4 level 2006-07-10 2006-07-10\n",
       "2  FN00003      380163          163     3163       2       1916                91         0             2089            10               1       63       0                                                                                                    NaN   442W.00             Serum TSH level 2006-07-10 2006-07-10\n",
       "3  FN00004      380163          163     4163       2       1916                91         0             2089            10               1     2401   39220  R EYE NOW LOWER LID INFLAMED AND WATERING ++. PLAN TREAT INF THEN REV ? WILL NEED REF TO OPTHALMOLOGY   F4E1.00                   Ectropion 2006-08-31 2006-08-31\n",
       "4  FN00005      380163          163    59163       2       1916                91         0             2089            10               1     3887       0                                                                                                    NaN   1A26.00  Urge incontinence of urine 2006-09-05 2006-09-05"
      ]
     },
     "execution_count": 191,
     "metadata": {},
     "output_type": "execute_result"
    }
   ],
   "source": [
    "entries.head(5)"
   ]
  },
  {
   "cell_type": "code",
   "execution_count": 241,
   "metadata": {},
   "outputs": [],
   "source": [
    "FN_entries = entries.loc[entries['entry id'].str.contains('FN')]\n"
   ]
  },
  {
   "cell_type": "code",
   "execution_count": 250,
   "metadata": {},
   "outputs": [],
   "source": [
    "FN_patids = list(set(FN_entries['patient id']))"
   ]
  },
  {
   "cell_type": "code",
   "execution_count": 2,
   "metadata": {},
   "outputs": [],
   "source": [
    "# for patid in FN_patids:\n",
    "#     display(FN_entries.loc[FN_entries['patient id']==patid,['patient id','Age_at_diagnosis','gender']].head(1))\n",
    "#     read_terms = FN_entries.loc[(FN_entries['patient id']==patid) & (pd.isnull(FN_entries['free text'])),['eventdate','Read term']]\n",
    "#     read_terms.rename(columns={'Read term':'info'},inplace=True)\n",
    "#     read_terms['info'] = '#' + read_terms['info'].astype(str)\n",
    "#     free_text = FN_entries.loc[(FN_entries['patient id']==patid) & (pd.notnull(FN_entries['free text'])),['eventdate','free text']]\n",
    "#     free_text.rename(columns={'free text':'info'},inplace=True)\n",
    "#     temp = pd.concat([free_text, read_terms], ignore_index=True).sort_values('eventdate')\n",
    "#     display(temp)"
   ]
  }
 ],
 "metadata": {
  "kernelspec": {
   "display_name": "Python 3",
   "language": "python",
   "name": "python3"
  },
  "language_info": {
   "codemirror_mode": {
    "name": "ipython",
    "version": 2
   },
   "file_extension": ".py",
   "mimetype": "text/x-python",
   "name": "python",
   "nbconvert_exporter": "python",
   "pygments_lexer": "ipython2",
   "version": "2.7.15"
  }
 },
 "nbformat": 4,
 "nbformat_minor": 2
}
